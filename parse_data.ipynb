{
  "nbformat": 4,
  "nbformat_minor": 0,
  "metadata": {
    "colab": {
      "provenance": []
    },
    "kernelspec": {
      "name": "python3",
      "display_name": "Python 3"
    },
    "language_info": {
      "name": "python"
    }
  },
  "cells": [
    {
      "cell_type": "code",
      "source": [
        "from google.colab import drive\n",
        "drive.mount('/content/drive')"
      ],
      "metadata": {
        "colab": {
          "base_uri": "https://localhost:8080/"
        },
        "id": "PsOSLMbErPnx",
        "outputId": "7214b0e8-41f0-4c90-bf50-cbd2ba642a19"
      },
      "execution_count": null,
      "outputs": [
        {
          "output_type": "stream",
          "name": "stdout",
          "text": [
            "Mounted at /content/drive\n"
          ]
        }
      ]
    },
    {
      "cell_type": "code",
      "execution_count": null,
      "metadata": {
        "id": "xj4a354vqlya"
      },
      "outputs": [],
      "source": [
        "import os\n",
        "import pandas as pd\n",
        "from bs4 import BeautifulSoup"
      ]
    },
    {
      "cell_type": "code",
      "source": [
        "SCORE_DIR = 'data/scores'\n",
        "box_scores = os.listdir(SCORE_DIR)\n",
        "box_scores = [os.path.join(SCORE_DIR, f) for f in box_scores if f.endswith(\".html\")]"
      ],
      "metadata": {
        "id": "lrVueuOlrXsq"
      },
      "execution_count": null,
      "outputs": []
    },
    {
      "cell_type": "code",
      "source": [
        "def parse_html(box_score):\n",
        "    with open(box_score) as f:\n",
        "        html = f.read()\n",
        "\n",
        "    soup = BeautifulSoup(html)\n",
        "    [s.decompose() for s in soup.select(\"tr.over_header\")]\n",
        "    [s.decompose() for s in soup.select(\"tr.thead\")]\n",
        "    return soup"
      ],
      "metadata": {
        "id": "e222BQIRsQR-"
      },
      "execution_count": null,
      "outputs": []
    },
    {
      "cell_type": "code",
      "source": [
        "def read_season_info(soup):\n",
        "    nav = soup.select(\"#bottom_nav_container\")[0]\n",
        "    hrefs = [a[\"href\"] for a in nav.find_all('a')]\n",
        "    season = os.path.basename(hrefs[1]).split(\"_\")[0]\n",
        "    return season"
      ],
      "metadata": {
        "id": "cLA4-uH3sZ2p"
      },
      "execution_count": null,
      "outputs": []
    },
    {
      "cell_type": "code",
      "source": [
        "def read_line_score(soup):\n",
        "    line_score = pd.read_html(str(soup), attrs = {'id': 'line_score'})[0]\n",
        "    cols = list(line_score.columns)\n",
        "    cols[0] = \"team\"\n",
        "    cols[-1] = \"total\"\n",
        "    line_score.columns = cols\n",
        "\n",
        "    line_score = line_score[[\"team\", \"total\"]]\n",
        "\n",
        "    return line_score"
      ],
      "metadata": {
        "id": "s7oueezqsbcD"
      },
      "execution_count": null,
      "outputs": []
    },
    {
      "cell_type": "code",
      "source": [
        "def read_stats(soup, team, stat):\n",
        "    df = pd.read_html(str(soup), attrs = {'id': f'box-{team}-game-{stat}'}, index_col=0)[0]\n",
        "    df = df.apply(pd.to_numeric, errors=\"coerce\")\n",
        "    return df"
      ],
      "metadata": {
        "id": "bQ1n00HisfGa"
      },
      "execution_count": null,
      "outputs": []
    },
    {
      "cell_type": "code",
      "source": [
        "games = []\n",
        "base_cols = None\n",
        "for box_score in box_scores:\n",
        "    soup = parse_html(box_score)\n",
        "\n",
        "    line_score = read_line_score(soup)\n",
        "    teams = list(line_score[\"team\"])\n",
        "\n",
        "    summaries = []\n",
        "    for team in teams:\n",
        "        basic = read_stats(soup, team, \"basic\")\n",
        "        advanced = read_stats(soup, team, \"advanced\")\n",
        "\n",
        "        totals = pd.concat([basic.iloc[-1,:], advanced.iloc[-1,:]])\n",
        "        totals.index = totals.index.str.lower()\n",
        "\n",
        "        maxes = pd.concat([basic.iloc[:-1].max(), advanced.iloc[:-1].max()])\n",
        "        maxes.index = maxes.index.str.lower() + \"_max\"\n",
        "\n",
        "        summary = pd.concat([totals, maxes])\n",
        "\n",
        "        if base_cols is None:\n",
        "            base_cols = list(summary.index.drop_duplicates(keep=\"first\"))\n",
        "            base_cols = [b for b in base_cols if \"bpm\" not in b]\n",
        "\n",
        "        summary = summary[base_cols]\n",
        "\n",
        "        summaries.append(summary)\n",
        "    summary = pd.concat(summaries, axis=1).T\n",
        "\n",
        "    game = pd.concat([summary, line_score], axis=1)\n",
        "\n",
        "    game[\"home\"] = [0,1]\n",
        "\n",
        "    game_opp = game.iloc[::-1].reset_index()\n",
        "    game_opp.columns += \"_opp\"\n",
        "\n",
        "    full_game = pd.concat([game, game_opp], axis=1)\n",
        "    full_game[\"season\"] = read_season_info(soup)\n",
        "\n",
        "    full_game[\"date\"] = os.path.basename(box_score)[:8]\n",
        "    full_game[\"date\"] = pd.to_datetime(full_game[\"date\"], format=\"%Y%m%d\")\n",
        "\n",
        "    full_game[\"won\"] = full_game[\"total\"] > full_game[\"total_opp\"]\n",
        "    games.append(full_game)\n",
        "\n",
        "    if len(games) % 100 == 0:\n",
        "        print(f\"{len(games)} / {len(box_scores)}\")"
      ],
      "metadata": {
        "id": "cyU8riuTshCc"
      },
      "execution_count": null,
      "outputs": []
    },
    {
      "cell_type": "code",
      "source": [
        "games_df = pd.concat(games, ignore_index=True)"
      ],
      "metadata": {
        "id": "L7brhzn9skVQ"
      },
      "execution_count": null,
      "outputs": []
    },
    {
      "cell_type": "code",
      "source": [
        "games_df"
      ],
      "metadata": {
        "id": "_beWuoFCslhS"
      },
      "execution_count": null,
      "outputs": []
    },
    {
      "cell_type": "code",
      "source": [
        "games_df.to_csv(\"nba_games.csv\")"
      ],
      "metadata": {
        "id": "faJxOip2smuw"
      },
      "execution_count": null,
      "outputs": []
    }
  ]
}